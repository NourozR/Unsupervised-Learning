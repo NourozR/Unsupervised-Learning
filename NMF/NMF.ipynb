{
 "cells": [
  {
   "cell_type": "markdown",
   "metadata": {},
   "source": [
    "First, we need to import libraries and preprocess the dataset. With a look at the dataset, it is confirmed that it needs preprocessing to use models."
   ]
  },
  {
   "cell_type": "code",
   "execution_count": 76,
   "metadata": {},
   "outputs": [],
   "source": [
    "# Import libraries\n",
    "from sklearn.decomposition import NMF\n",
    "import pandas as pd "
   ]
  },
  {
   "cell_type": "code",
   "execution_count": 77,
   "metadata": {},
   "outputs": [],
   "source": [
    "# Dataset Preprocessing \n",
    "articles = pd.read_csv('wiki.csv')\n",
    "titles = list(articles)\n",
    "titles.remove('Unnamed: 0')\n",
    "articles = pd.DataFrame.transpose(articles)\n",
    "articles = articles.iloc[1:, :]"
   ]
  },
  {
   "cell_type": "markdown",
   "metadata": {},
   "source": [
    "Function to create NMF features and components using scikit-learn."
   ]
  },
  {
   "cell_type": "code",
   "execution_count": 81,
   "metadata": {},
   "outputs": [],
   "source": [
    "# Function for NMF features\n",
    "def NMF_Model(dataset, components = 10):\n",
    "    model = NMF(n_components = components)\n",
    "    model.fit(dataset) \n",
    "    nmf_features = model.transform(dataset)\n",
    "    model_components = model.components_\n",
    "    return nmf_features, model_components"
   ]
  },
  {
   "cell_type": "code",
   "execution_count": 82,
   "metadata": {},
   "outputs": [
    {
     "name": "stdout",
     "output_type": "stream",
     "text": [
      "0    0.002348\n",
      "1    0.002625\n",
      "2    0.000124\n",
      "3    0.528884\n",
      "4    0.014069\n",
      "5    0.012877\n",
      "6    0.004806\n",
      "7    0.001242\n",
      "8    0.000000\n",
      "9    0.000000\n",
      "Name: Jennifer Aniston, dtype: float64\n",
      "0    0.000000\n",
      "1    0.007546\n",
      "2    0.019930\n",
      "3    0.518083\n",
      "4    0.050086\n",
      "5    0.011938\n",
      "6    0.005505\n",
      "7    0.021618\n",
      "8    0.008793\n",
      "9    0.009658\n",
      "Name: Angelina Jolie, dtype: float64\n"
     ]
    }
   ],
   "source": [
    "# Use NMF_Model on dataset    \n",
    "features, components = NMF_Model(articles)\n",
    "df = pd.DataFrame(features, index = titles)\n",
    "print(df.loc['Jennifer Aniston'])\n",
    "print(df.loc['Angelina Jolie'])\n"
   ]
  },
  {
   "cell_type": "markdown",
   "metadata": {},
   "source": [
    "Using NMF features on the clear dataset, it is evident that thrird feature for both Angelina Jolie and Jennifer Aniston are high. So, we need to know which words actually made that high. From those words we can maybe understand why this value is particularly higher."
   ]
  },
  {
   "cell_type": "code",
   "execution_count": 83,
   "metadata": {},
   "outputs": [
    {
     "data": {
      "text/plain": [
       "(13125, 1)"
      ]
     },
     "execution_count": 83,
     "metadata": {},
     "output_type": "execute_result"
    }
   ],
   "source": [
    "# Import words file\n",
    "words = pd.read_csv('words.txt', sep =\" \", header=None)\n",
    "words.shape"
   ]
  },
  {
   "cell_type": "code",
   "execution_count": 84,
   "metadata": {},
   "outputs": [
    {
     "name": "stdout",
     "output_type": "stream",
     "text": [
      "(film,)           0.627158\n",
      "(award,)          0.252650\n",
      "(starred,)        0.245050\n",
      "(role,)           0.210956\n",
      "(actress,)        0.186257\n",
      "(played,)         0.169539\n",
      "(actor,)          0.157134\n",
      "(performance,)    0.148404\n",
      "(washington,)     0.145717\n",
      "(drama,)          0.129148\n",
      "(appeared,)       0.126540\n",
      "(comedy,)         0.124432\n",
      "(reviews,)        0.124392\n",
      "(jones,)          0.120182\n",
      "(received,)       0.118799\n",
      "(million,)        0.113166\n",
      "(best,)           0.107875\n",
      "(cast,)           0.107606\n",
      "(pitt,)           0.106451\n",
      "(character,)      0.104684\n",
      "Name: 3, dtype: float64\n"
     ]
    }
   ],
   "source": [
    "# Create dataframe using components\n",
    "component_df = pd.DataFrame(components, columns=words)\n",
    "print((component_df.iloc[3]).nlargest(20))\n"
   ]
  },
  {
   "cell_type": "markdown",
   "metadata": {},
   "source": [
    "So, these are the top 10 words that made the value of thrid feature higher than ohter features. It seems \"Brad Pitt\" is also a common between both actress and out NMF algorithm recognized that too. :-p "
   ]
  }
 ],
 "metadata": {
  "kernelspec": {
   "display_name": "Python 3",
   "language": "python",
   "name": "python3"
  },
  "language_info": {
   "codemirror_mode": {
    "name": "ipython",
    "version": 3
   },
   "file_extension": ".py",
   "mimetype": "text/x-python",
   "name": "python",
   "nbconvert_exporter": "python",
   "pygments_lexer": "ipython3",
   "version": "3.5.2"
  }
 },
 "nbformat": 4,
 "nbformat_minor": 2
}
